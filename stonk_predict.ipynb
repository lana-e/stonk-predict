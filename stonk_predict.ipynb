{
 "cells": [
  {
   "cell_type": "code",
   "execution_count": 1,
   "metadata": {},
   "outputs": [],
   "source": [
    "import numpy as np\n",
    "import pandas as pd\n",
    "from datetime import datetime as dt\n",
    "from datetime import timezone\n",
    "import requests\n",
    "from io import StringIO\n",
    "from sklearn.model_selection import train_test_split\n",
    "from sklearn.preprocessing import MinMaxScaler\n",
    "from matplotlib import pyplot as plt\n",
    "import tensorflow as tf"
   ]
  },
  {
   "cell_type": "code",
   "execution_count": 2,
   "metadata": {},
   "outputs": [],
   "source": [
    "# function to get stonk data\n",
    "def get_stonk(stonk_code,hist_date='01-01-2010'):\n",
    "    today = dt.today()\n",
    "    \n",
    "    # converting dates to Unix timestamps\n",
    "    unix_hist = dt.strptime(hist_date,'%m-%d-%Y').replace(tzinfo=timezone.utc).timestamp()\n",
    "    unix_today = today.replace(tzinfo=timezone.utc).timestamp()\n",
    "    \n",
    "    # getting stonk history from Yahoo! Finance\n",
    "    link = (f'https://query1.finance.yahoo.com/v7/finance/download/'\n",
    "            f'{stonk_code}?period1={int(unix_hist)}&period2={int(unix_today)}&interval=1d&events=history')\n",
    "    b = requests.get(link)\n",
    "    s = str(b.content,'utf-8')\n",
    "    s_io = StringIO(s)\n",
    "    stonks = pd.read_csv(s_io,encoding='utf-8',parse_dates=['Date'])\n",
    "    \n",
    "    # converting Date column to numeric data\n",
    "    try:\n",
    "        stonks['Date'] = stonks['Date'].map(dt.toordinal)\n",
    "    except:\n",
    "        pass\n",
    "    return stonks"
   ]
  },
  {
   "cell_type": "code",
   "execution_count": 3,
   "metadata": {},
   "outputs": [],
   "source": [
    "# function for train/test splitting, scaling, and smoothing\n",
    "def split_scale(stonk_df,smooth_window,EMA_interval=21):\n",
    "    # splitting data\n",
    "    train, test = train_test_split(stonk_df.dropna(),test_size=0.2,shuffle=False)\n",
    "    \n",
    "    # scaling data\n",
    "    scaler=MinMaxScaler()\n",
    "    train_scaled = pd.DataFrame()\n",
    "    test_scaled = pd.DataFrame()\n",
    "    for feat in stonk_df.columns:\n",
    "        train_feat = []\n",
    "        for di in range(0,len(train)-1,smooth_window):\n",
    "            scaler.fit(train.loc[di:di+smooth_window-1,feat].values.reshape(-1,1))\n",
    "            scaled_feat_train = scaler.transform(train.loc[di:di+smooth_window-1,feat].values.reshape(-1,1))\n",
    "            train_feat = np.concatenate((train_feat,scaled_feat_train.reshape(-1)))\n",
    "        train_scaled[feat] = train_feat\n",
    "        scaled_feat_test = scaler.transform(test.loc[:,feat].values.reshape(-1,1))\n",
    "        test_scaled[feat] = scaled_feat_test.reshape(-1)\n",
    "    \n",
    "    # smoothing training data using exponential moving average (EMA)\n",
    "    mult = 2/(EMA_interval+1)\n",
    "    EMA = 0.0\n",
    "    for ind in range(len(train_scaled)):\n",
    "        EMA = train_scaled.iloc[ind]*mult + EMA*(1-mult)\n",
    "        train_scaled.iloc[ind] = EMA\n",
    "    return train_scaled, test_scaled"
   ]
  },
  {
   "cell_type": "code",
   "execution_count": 4,
   "metadata": {},
   "outputs": [],
   "source": [
    "stonks = get_stonk('AMC')\n",
    "# stonks"
   ]
  },
  {
   "cell_type": "code",
   "execution_count": 5,
   "metadata": {},
   "outputs": [],
   "source": [
    "try:\n",
    "    date = stonks.pop('Date')\n",
    "except:\n",
    "    pass\n",
    "train_scaled, test_scaled = split_scale(stonks,smooth_window=500)"
   ]
  },
  {
   "cell_type": "code",
   "execution_count": 6,
   "metadata": {},
   "outputs": [],
   "source": [
    "# train_scaled"
   ]
  },
  {
   "cell_type": "code",
   "execution_count": 7,
   "metadata": {},
   "outputs": [],
   "source": [
    "# test_scaled"
   ]
  },
  {
   "cell_type": "code",
   "execution_count": 8,
   "metadata": {},
   "outputs": [],
   "source": [
    "# defining how far ahead user wants to predict\n",
    "days_ahead = 30 # change to user input\n",
    "for df in [train_scaled,test_scaled]:\n",
    "    for ind in df.index:\n",
    "        try:\n",
    "            df.loc[ind,f'{days_ahead}_days'] = df.loc[ind+days_ahead,'Open']\n",
    "        except:\n",
    "            pass\n",
    "    df.dropna(inplace=True)"
   ]
  },
  {
   "cell_type": "code",
   "execution_count": 9,
   "metadata": {},
   "outputs": [],
   "source": [
    "# defining inputs & outputs\n",
    "x_train = train_scaled.drop(f'{days_ahead}_days',axis=1)\n",
    "y_train = train_scaled.loc[:,f'{days_ahead}_days']\n",
    "x_test = test_scaled.drop(f'{days_ahead}_days',axis=1)\n",
    "y_test = test_scaled.loc[:,f'{days_ahead}_days']\n",
    "\n",
    "# reshaping inputs & outputs for LSTM model\n",
    "x_train = np.reshape(x_train.values,(x_train.values.shape[0],x_train.values.shape[1],1))\n",
    "x_test = np.reshape(x_test.values,(x_test.values.shape[0],x_test.values.shape[1],1))\n",
    "y_train, y_test = y_train.values, y_test.values"
   ]
  },
  {
   "cell_type": "code",
   "execution_count": 71,
   "metadata": {},
   "outputs": [],
   "source": [
    "# defining and building TensorFlow LSTM model\n",
    "model_lstm = tf.keras.Sequential()\n",
    "# model_lstm.add(tf.keras.layers.LSTM(units=64,return_sequences=True))\n",
    "model_lstm.add(tf.keras.layers.LSTM(units=64,return_sequences=True))\n",
    "model_lstm.add(tf.keras.layers.LSTM(units=64))\n",
    "model_lstm.add(tf.keras.layers.Dense(units=1))\n",
    "model_lstm.compile(loss='mse',optimizer='adam')"
   ]
  },
  {
   "cell_type": "code",
   "execution_count": 72,
   "metadata": {},
   "outputs": [
    {
     "name": "stdout",
     "output_type": "stream",
     "text": [
      "Epoch 1/5\n",
      "3/3 [==============================] - 0s 19ms/step - loss: 0.2733\n",
      "Epoch 2/5\n",
      "3/3 [==============================] - 0s 20ms/step - loss: 0.1797\n",
      "Epoch 3/5\n",
      "3/3 [==============================] - 0s 20ms/step - loss: 0.0986\n",
      "Epoch 4/5\n",
      "3/3 [==============================] - 0s 18ms/step - loss: 0.0391\n",
      "Epoch 5/5\n",
      "3/3 [==============================] - 0s 16ms/step - loss: 0.0279\n"
     ]
    },
    {
     "data": {
      "text/plain": [
       "<tensorflow.python.keras.callbacks.History at 0x1c6638b4f70>"
      ]
     },
     "execution_count": 72,
     "metadata": {},
     "output_type": "execute_result"
    }
   ],
   "source": [
    "# training model\n",
    "model_lstm.fit(x_train,y_train,epochs=5,batch_size=512,verbose=1)"
   ]
  },
  {
   "cell_type": "code",
   "execution_count": 73,
   "metadata": {},
   "outputs": [
    {
     "name": "stdout",
     "output_type": "stream",
     "text": [
      "10/10 [==============================] - 0s 3ms/step - loss: 0.3114\n"
     ]
    },
    {
     "data": {
      "text/plain": [
       "0.3113584816455841"
      ]
     },
     "execution_count": 73,
     "metadata": {},
     "output_type": "execute_result"
    }
   ],
   "source": [
    "# evaluating model\n",
    "model_lstm.evaluate(x_test,y_test,verbose=1)"
   ]
  },
  {
   "cell_type": "code",
   "execution_count": 74,
   "metadata": {},
   "outputs": [
    {
     "name": "stderr",
     "output_type": "stream",
     "text": [
      "c:\\users\\nolan\\appdata\\local\\programs\\python\\python38\\lib\\site-packages\\pandas\\core\\frame.py:3990: SettingWithCopyWarning: \n",
      "A value is trying to be set on a copy of a slice from a DataFrame\n",
      "\n",
      "See the caveats in the documentation: https://pandas.pydata.org/pandas-docs/stable/user_guide/indexing.html#returning-a-view-versus-a-copy\n",
      "  return super().drop(\n"
     ]
    }
   ],
   "source": [
    "# predicting stock price a user-inputted number of days into the future\n",
    "to_predict = test_scaled.iloc[-2*days_ahead:-days_ahead]\n",
    "to_predict.drop(f'{days_ahead}_days',axis=1,inplace=True)\n",
    "x_predict = np.reshape(to_predict.values,(to_predict.values.shape[0],to_predict.values.shape[1],1))\n",
    "predictions = model_lstm.predict(x_predict)"
   ]
  },
  {
   "cell_type": "code",
   "execution_count": 76,
   "metadata": {},
   "outputs": [
    {
     "data": {
      "image/png": "[encoded data removed]",
      "text/plain": [
       "<Figure size 432x288 with 1 Axes>"
      ]
     },
     "metadata": {
      "needs_background": "light"
     },
     "output_type": "display_data"
    }
   ],
   "source": [
    "plt.plot(date.iloc[-days_ahead:].map(dt.fromordinal),\n",
    "         predictions.reshape(predictions.shape[0],predictions.shape[1]).T[0],'r--',label='Predictions')\n",
    "plt.plot(date.iloc[-days_ahead:].map(dt.fromordinal),test_scaled.iloc[-days_ahead:].Open,'b-',label='Actual prices')\n",
    "plt.plot(date.iloc[-2*days_ahead:-days_ahead],to_predict.Open,'g-',label='Data fed into model')\n",
    "# plt.plot(date.iloc[test_scaled.iloc[-days_ahead:].index].map(dt.fromordinal),\n",
    "#          test_scaled.iloc[-days_ahead:].Open,'b-',label='Open')\n",
    "# plt.plot(date.iloc[to_predict.index+30].map(dt.fromordinal),to_predict.Open,'g-',label=f'Open {days_ahead} days prior')\n",
    "plt.legend(loc=0,frameon=True)\n",
    "plt.xlabel('Date')\n",
    "plt.ylabel('Normalized Stock Price')\n",
    "plt.title('Stock Price Movement Predictions')\n",
    "plt.show()"
   ]
  },
  {
   "cell_type": "code",
   "execution_count": 52,
   "metadata": {},
   "outputs": [
    {
     "data": {
      "image/png": "[encoded data removed]",
      "text/plain": [
       "<Figure size 432x288 with 1 Axes>"
      ]
     },
     "metadata": {
      "needs_background": "light"
     },
     "output_type": "display_data"
    }
   ],
   "source": [
    "plt.plot(date.iloc[train_scaled.index].map(dt.fromordinal),train_scaled.Open,'b-')\n",
    "plt.show()"
   ]
  },
  {
   "cell_type": "code",
   "execution_count": 53,
   "metadata": {},
   "outputs": [
    {
     "data": {
      "image/png": "[encoded data removed]",
      "text/plain": [
       "<Figure size 432x288 with 1 Axes>"
      ]
     },
     "metadata": {
      "needs_background": "light"
     },
     "output_type": "display_data"
    }
   ],
   "source": [
    "plt.plot(date.iloc[len(train_scaled)+test_scaled.index].map(dt.fromordinal),test_scaled.Open,'b-')\n",
    "plt.show()"
   ]
  },
  {
   "cell_type": "code",
   "execution_count": null,
   "metadata": {},
   "outputs": [],
   "source": []
  }
 ],
 "metadata": {
  "kernelspec": {
   "display_name": "Python 3",
   "language": "python",
   "name": "python3"
  },
  "language_info": {
   "codemirror_mode": {
    "name": "ipython",
    "version": 3
   },
   "file_extension": ".py",
   "mimetype": "text/x-python",
   "name": "python",
   "nbconvert_exporter": "python",
   "pygments_lexer": "ipython3",
   "version": "3.8.3"
  }
 },
 "nbformat": 4,
 "nbformat_minor": 4
}
