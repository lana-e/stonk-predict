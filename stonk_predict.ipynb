{
 "cells": [
  {
   "cell_type": "code",
   "execution_count": 192,
   "metadata": {},
   "outputs": [],
   "source": [
    "import numpy as np\n",
    "import pandas as pd\n",
    "from datetime import datetime as dt\n",
    "from datetime import timezone\n",
    "import requests\n",
    "from io import StringIO\n",
    "from sklearn.linear_model import LinearRegression\n",
    "from sklearn.model_selection import train_test_split\n",
    "from sklearn.preprocessing import MinMaxScaler\n",
    "from matplotlib import pyplot as plt\n",
    "import tensorflow as tf"
   ]
  },
  {
   "cell_type": "code",
   "execution_count": 193,
   "metadata": {},
   "outputs": [],
   "source": [
    "# defining stonks and dates. change to user input later\n",
    "stonk_code = 'AMC'\n",
    "hist_date = '01-01-2010'\n",
    "today = dt.today()"
   ]
  },
  {
   "cell_type": "code",
   "execution_count": 194,
   "metadata": {},
   "outputs": [],
   "source": [
    "# converting dates to Unix timestamps\n",
    "unix_hist = dt.strptime(hist_date,'%m-%d-%Y').replace(tzinfo=timezone.utc).timestamp()\n",
    "unix_today = today.replace(tzinfo=timezone.utc).timestamp()"
   ]
  },
  {
   "cell_type": "code",
   "execution_count": 195,
   "metadata": {},
   "outputs": [],
   "source": [
    "# getting stonk history from Yahoo! Finance\n",
    "link = (f'https://query1.finance.yahoo.com/v7/finance/download/'\n",
    "        f'{stonk_code}?period1={int(unix_hist)}&period2={int(unix_today)}&interval=1d&events=history')\n",
    "b = requests.get(link)\n",
    "s = str(b.content,'utf-8')\n",
    "s_io = StringIO(s)\n",
    "stonks = pd.read_csv(s_io,encoding='utf-8',parse_dates=['Date'])"
   ]
  },
  {
   "cell_type": "code",
   "execution_count": 196,
   "metadata": {},
   "outputs": [],
   "source": [
    "# defining how far ahead user wants to predict\n",
    "days_ahead = 30 # change to user input\n",
    "stonks[f'{days_ahead}_days'] = np.nan\n",
    "for ind in stonks.index:\n",
    "    try:\n",
    "        stonks.loc[ind,f'{days_ahead}_days'] = stonks.loc[ind+days_ahead,'Open']\n",
    "    except:\n",
    "        pass"
   ]
  },
  {
   "cell_type": "code",
   "execution_count": 197,
   "metadata": {},
   "outputs": [],
   "source": [
    "# converting Date column to numeric data\n",
    "try:\n",
    "    stonks['Date'] = stonks['Date'].map(dt.toordinal)\n",
    "except:\n",
    "    pass"
   ]
  },
  {
   "cell_type": "code",
   "execution_count": 198,
   "metadata": {},
   "outputs": [],
   "source": [
    "# defining independent & dependent variables, train/test split\n",
    "x = stonks.dropna().loc[:,['Date','Open','High']]\n",
    "y = stonks.dropna().loc[:,f'{days_ahead}_days']\n",
    "x_train, x_test, y_train, y_test = train_test_split(x, y, test_size=0.2, shuffle=False)"
   ]
  },
  {
   "cell_type": "code",
   "execution_count": 199,
   "metadata": {},
   "outputs": [
    {
     "data": {
      "image/png": "[encoded data removed]",
      "text/plain": [
       "<Figure size 432x288 with 1 Axes>"
      ]
     },
     "metadata": {
      "needs_background": "light"
     },
     "output_type": "display_data"
    },
    {
     "name": "stdout",
     "output_type": "stream",
     "text": [
      "Score: 0.6641724396918274\n"
     ]
    }
   ],
   "source": [
    "# model & predictions\n",
    "lm = LinearRegression()\n",
    "model = lm.fit(x_train,y_train)\n",
    "test_predictions = lm.predict(x_test)\n",
    "plt.plot(stonks.Date.map(dt.fromordinal),stonks.Open,'b--',label='Historical')\n",
    "plt.plot(x_test.Date.map(dt.fromordinal),test_predictions,'r-',label='Predictions')\n",
    "plt.xlabel('Date')\n",
    "plt.ylabel('Stonk Price')\n",
    "plt.title(f'{stonk_code} Stonk Price')\n",
    "plt.legend(loc=0,frameon=True)\n",
    "plt.show()\n",
    "score = model.score(x_test,y_test)\n",
    "print('Score:',score)"
   ]
  },
  {
   "cell_type": "code",
   "execution_count": 200,
   "metadata": {},
   "outputs": [
    {
     "name": "stdout",
     "output_type": "stream",
     "text": [
      "range(1596491444, 1597708800)\n"
     ]
    }
   ],
   "source": [
    "# predicting future stonks\n",
    "pred_date = '08-18-2020' # change to user input\n",
    "unix_pred = dt.strptime(pred_date,'%m-%d-%Y').replace(tzinfo=timezone.utc).timestamp()\n",
    "print(range(int(unix_today),int(unix_pred)))"
   ]
  },
  {
   "cell_type": "code",
   "execution_count": 201,
   "metadata": {},
   "outputs": [
    {
     "data": {
      "text/html": [
       "<div>\n",
       "<style scoped>\n",
       "    .dataframe tbody tr th:only-of-type {\n",
       "        vertical-align: middle;\n",
       "    }\n",
       "\n",
       "    .dataframe tbody tr th {\n",
       "        vertical-align: top;\n",
       "    }\n",
       "\n",
       "    .dataframe thead th {\n",
       "        text-align: right;\n",
       "    }\n",
       "</style>\n",
       "<table border=\"1\" class=\"dataframe\">\n",
       "  <thead>\n",
       "    <tr style=\"text-align: right;\">\n",
       "      <th></th>\n",
       "      <th>Date</th>\n",
       "      <th>Open</th>\n",
       "      <th>High</th>\n",
       "      <th>Low</th>\n",
       "      <th>Close</th>\n",
       "      <th>Adj Close</th>\n",
       "      <th>Volume</th>\n",
       "      <th>30_days</th>\n",
       "    </tr>\n",
       "  </thead>\n",
       "  <tbody>\n",
       "    <tr>\n",
       "      <th>0</th>\n",
       "      <td>735220</td>\n",
       "      <td>19.180000</td>\n",
       "      <td>19.790001</td>\n",
       "      <td>18.900000</td>\n",
       "      <td>18.900000</td>\n",
       "      <td>13.593408</td>\n",
       "      <td>5457200</td>\n",
       "      <td>21.500000</td>\n",
       "    </tr>\n",
       "    <tr>\n",
       "      <th>1</th>\n",
       "      <td>735221</td>\n",
       "      <td>18.900000</td>\n",
       "      <td>19.490000</td>\n",
       "      <td>18.809999</td>\n",
       "      <td>19.490000</td>\n",
       "      <td>14.017756</td>\n",
       "      <td>1605400</td>\n",
       "      <td>21.049999</td>\n",
       "    </tr>\n",
       "    <tr>\n",
       "      <th>2</th>\n",
       "      <td>735222</td>\n",
       "      <td>19.650000</td>\n",
       "      <td>19.770000</td>\n",
       "      <td>19.400000</td>\n",
       "      <td>19.680000</td>\n",
       "      <td>14.154408</td>\n",
       "      <td>737100</td>\n",
       "      <td>20.840000</td>\n",
       "    </tr>\n",
       "    <tr>\n",
       "      <th>3</th>\n",
       "      <td>735225</td>\n",
       "      <td>19.790001</td>\n",
       "      <td>19.990000</td>\n",
       "      <td>19.500000</td>\n",
       "      <td>19.740000</td>\n",
       "      <td>14.197564</td>\n",
       "      <td>698100</td>\n",
       "      <td>20.990000</td>\n",
       "    </tr>\n",
       "    <tr>\n",
       "      <th>4</th>\n",
       "      <td>735226</td>\n",
       "      <td>19.740000</td>\n",
       "      <td>19.820000</td>\n",
       "      <td>19.500000</td>\n",
       "      <td>19.530001</td>\n",
       "      <td>14.046525</td>\n",
       "      <td>213700</td>\n",
       "      <td>21.209999</td>\n",
       "    </tr>\n",
       "    <tr>\n",
       "      <th>...</th>\n",
       "      <td>...</td>\n",
       "      <td>...</td>\n",
       "      <td>...</td>\n",
       "      <td>...</td>\n",
       "      <td>...</td>\n",
       "      <td>...</td>\n",
       "      <td>...</td>\n",
       "      <td>...</td>\n",
       "    </tr>\n",
       "    <tr>\n",
       "      <th>1662</th>\n",
       "      <td>737634</td>\n",
       "      <td>3.850000</td>\n",
       "      <td>4.250000</td>\n",
       "      <td>3.840000</td>\n",
       "      <td>4.150000</td>\n",
       "      <td>4.150000</td>\n",
       "      <td>6226600</td>\n",
       "      <td>NaN</td>\n",
       "    </tr>\n",
       "    <tr>\n",
       "      <th>1663</th>\n",
       "      <td>737635</td>\n",
       "      <td>4.070000</td>\n",
       "      <td>4.200000</td>\n",
       "      <td>3.950000</td>\n",
       "      <td>4.160000</td>\n",
       "      <td>4.160000</td>\n",
       "      <td>5489400</td>\n",
       "      <td>NaN</td>\n",
       "    </tr>\n",
       "    <tr>\n",
       "      <th>1664</th>\n",
       "      <td>737636</td>\n",
       "      <td>4.120000</td>\n",
       "      <td>4.340000</td>\n",
       "      <td>4.060000</td>\n",
       "      <td>4.120000</td>\n",
       "      <td>4.120000</td>\n",
       "      <td>3699100</td>\n",
       "      <td>NaN</td>\n",
       "    </tr>\n",
       "    <tr>\n",
       "      <th>1665</th>\n",
       "      <td>737637</td>\n",
       "      <td>4.080000</td>\n",
       "      <td>4.150000</td>\n",
       "      <td>3.950000</td>\n",
       "      <td>4.040000</td>\n",
       "      <td>4.040000</td>\n",
       "      <td>2584900</td>\n",
       "      <td>NaN</td>\n",
       "    </tr>\n",
       "    <tr>\n",
       "      <th>1666</th>\n",
       "      <td>737640</td>\n",
       "      <td>4.050000</td>\n",
       "      <td>4.195000</td>\n",
       "      <td>3.860000</td>\n",
       "      <td>4.110000</td>\n",
       "      <td>4.110000</td>\n",
       "      <td>4027553</td>\n",
       "      <td>NaN</td>\n",
       "    </tr>\n",
       "  </tbody>\n",
       "</table>\n",
       "<p>1667 rows × 8 columns</p>\n",
       "</div>"
      ],
      "text/plain": [
       "        Date       Open       High        Low      Close  Adj Close   Volume  \\\n",
       "0     735220  19.180000  19.790001  18.900000  18.900000  13.593408  5457200   \n",
       "1     735221  18.900000  19.490000  18.809999  19.490000  14.017756  1605400   \n",
       "2     735222  19.650000  19.770000  19.400000  19.680000  14.154408   737100   \n",
       "3     735225  19.790001  19.990000  19.500000  19.740000  14.197564   698100   \n",
       "4     735226  19.740000  19.820000  19.500000  19.530001  14.046525   213700   \n",
       "...      ...        ...        ...        ...        ...        ...      ...   \n",
       "1662  737634   3.850000   4.250000   3.840000   4.150000   4.150000  6226600   \n",
       "1663  737635   4.070000   4.200000   3.950000   4.160000   4.160000  5489400   \n",
       "1664  737636   4.120000   4.340000   4.060000   4.120000   4.120000  3699100   \n",
       "1665  737637   4.080000   4.150000   3.950000   4.040000   4.040000  2584900   \n",
       "1666  737640   4.050000   4.195000   3.860000   4.110000   4.110000  4027553   \n",
       "\n",
       "        30_days  \n",
       "0     21.500000  \n",
       "1     21.049999  \n",
       "2     20.840000  \n",
       "3     20.990000  \n",
       "4     21.209999  \n",
       "...         ...  \n",
       "1662        NaN  \n",
       "1663        NaN  \n",
       "1664        NaN  \n",
       "1665        NaN  \n",
       "1666        NaN  \n",
       "\n",
       "[1667 rows x 8 columns]"
      ]
     },
     "execution_count": 201,
     "metadata": {},
     "output_type": "execute_result"
    }
   ],
   "source": [
    "stonks"
   ]
  },
  {
   "cell_type": "code",
   "execution_count": 202,
   "metadata": {},
   "outputs": [
    {
     "data": {
      "text/html": [
       "<div>\n",
       "<style scoped>\n",
       "    .dataframe tbody tr th:only-of-type {\n",
       "        vertical-align: middle;\n",
       "    }\n",
       "\n",
       "    .dataframe tbody tr th {\n",
       "        vertical-align: top;\n",
       "    }\n",
       "\n",
       "    .dataframe thead th {\n",
       "        text-align: right;\n",
       "    }\n",
       "</style>\n",
       "<table border=\"1\" class=\"dataframe\">\n",
       "  <thead>\n",
       "    <tr style=\"text-align: right;\">\n",
       "      <th></th>\n",
       "      <th>Date</th>\n",
       "      <th>Open</th>\n",
       "      <th>High</th>\n",
       "      <th>Low</th>\n",
       "      <th>Close</th>\n",
       "      <th>Adj Close</th>\n",
       "      <th>Volume</th>\n",
       "      <th>30_days</th>\n",
       "    </tr>\n",
       "  </thead>\n",
       "  <tbody>\n",
       "    <tr>\n",
       "      <th>0</th>\n",
       "      <td>-1.732549</td>\n",
       "      <td>-0.146970</td>\n",
       "      <td>-0.112605</td>\n",
       "      <td>-0.137880</td>\n",
       "      <td>-0.176864</td>\n",
       "      <td>-0.426163</td>\n",
       "      <td>1.100337</td>\n",
       "      <td>0.121379</td>\n",
       "    </tr>\n",
       "    <tr>\n",
       "      <th>1</th>\n",
       "      <td>-1.731118</td>\n",
       "      <td>-0.179519</td>\n",
       "      <td>-0.147279</td>\n",
       "      <td>-0.148410</td>\n",
       "      <td>-0.108364</td>\n",
       "      <td>-0.355095</td>\n",
       "      <td>-0.021170</td>\n",
       "      <td>0.069537</td>\n",
       "    </tr>\n",
       "    <tr>\n",
       "      <th>2</th>\n",
       "      <td>-1.729686</td>\n",
       "      <td>-0.092335</td>\n",
       "      <td>-0.114917</td>\n",
       "      <td>-0.079380</td>\n",
       "      <td>-0.086304</td>\n",
       "      <td>-0.332209</td>\n",
       "      <td>-0.273988</td>\n",
       "      <td>0.045345</td>\n",
       "    </tr>\n",
       "    <tr>\n",
       "      <th>3</th>\n",
       "      <td>-1.725391</td>\n",
       "      <td>-0.076060</td>\n",
       "      <td>-0.089489</td>\n",
       "      <td>-0.067680</td>\n",
       "      <td>-0.079338</td>\n",
       "      <td>-0.324982</td>\n",
       "      <td>-0.285344</td>\n",
       "      <td>0.062625</td>\n",
       "    </tr>\n",
       "    <tr>\n",
       "      <th>4</th>\n",
       "      <td>-1.723959</td>\n",
       "      <td>-0.081873</td>\n",
       "      <td>-0.109138</td>\n",
       "      <td>-0.067680</td>\n",
       "      <td>-0.103720</td>\n",
       "      <td>-0.350277</td>\n",
       "      <td>-0.426384</td>\n",
       "      <td>0.087970</td>\n",
       "    </tr>\n",
       "    <tr>\n",
       "      <th>...</th>\n",
       "      <td>...</td>\n",
       "      <td>...</td>\n",
       "      <td>...</td>\n",
       "      <td>...</td>\n",
       "      <td>...</td>\n",
       "      <td>...</td>\n",
       "      <td>...</td>\n",
       "      <td>...</td>\n",
       "    </tr>\n",
       "    <tr>\n",
       "      <th>1662</th>\n",
       "      <td>1.723657</td>\n",
       "      <td>-1.929014</td>\n",
       "      <td>-1.908696</td>\n",
       "      <td>-1.899901</td>\n",
       "      <td>-1.889375</td>\n",
       "      <td>-2.007703</td>\n",
       "      <td>1.324359</td>\n",
       "      <td>NaN</td>\n",
       "    </tr>\n",
       "    <tr>\n",
       "      <th>1663</th>\n",
       "      <td>1.725088</td>\n",
       "      <td>-1.903440</td>\n",
       "      <td>-1.914475</td>\n",
       "      <td>-1.887031</td>\n",
       "      <td>-1.888214</td>\n",
       "      <td>-2.006028</td>\n",
       "      <td>1.109713</td>\n",
       "      <td>NaN</td>\n",
       "    </tr>\n",
       "    <tr>\n",
       "      <th>1664</th>\n",
       "      <td>1.726520</td>\n",
       "      <td>-1.897628</td>\n",
       "      <td>-1.898294</td>\n",
       "      <td>-1.874161</td>\n",
       "      <td>-1.892858</td>\n",
       "      <td>-2.012727</td>\n",
       "      <td>0.588441</td>\n",
       "      <td>NaN</td>\n",
       "    </tr>\n",
       "    <tr>\n",
       "      <th>1665</th>\n",
       "      <td>1.727952</td>\n",
       "      <td>-1.902278</td>\n",
       "      <td>-1.920254</td>\n",
       "      <td>-1.887031</td>\n",
       "      <td>-1.902146</td>\n",
       "      <td>-2.026125</td>\n",
       "      <td>0.264026</td>\n",
       "      <td>NaN</td>\n",
       "    </tr>\n",
       "    <tr>\n",
       "      <th>1666</th>\n",
       "      <td>1.732247</td>\n",
       "      <td>-1.905765</td>\n",
       "      <td>-1.915053</td>\n",
       "      <td>-1.897561</td>\n",
       "      <td>-1.894019</td>\n",
       "      <td>-2.014402</td>\n",
       "      <td>0.684075</td>\n",
       "      <td>NaN</td>\n",
       "    </tr>\n",
       "  </tbody>\n",
       "</table>\n",
       "<p>1667 rows × 8 columns</p>\n",
       "</div>"
      ],
      "text/plain": [
       "          Date      Open      High       Low     Close  Adj Close    Volume  \\\n",
       "0    -1.732549 -0.146970 -0.112605 -0.137880 -0.176864  -0.426163  1.100337   \n",
       "1    -1.731118 -0.179519 -0.147279 -0.148410 -0.108364  -0.355095 -0.021170   \n",
       "2    -1.729686 -0.092335 -0.114917 -0.079380 -0.086304  -0.332209 -0.273988   \n",
       "3    -1.725391 -0.076060 -0.089489 -0.067680 -0.079338  -0.324982 -0.285344   \n",
       "4    -1.723959 -0.081873 -0.109138 -0.067680 -0.103720  -0.350277 -0.426384   \n",
       "...        ...       ...       ...       ...       ...        ...       ...   \n",
       "1662  1.723657 -1.929014 -1.908696 -1.899901 -1.889375  -2.007703  1.324359   \n",
       "1663  1.725088 -1.903440 -1.914475 -1.887031 -1.888214  -2.006028  1.109713   \n",
       "1664  1.726520 -1.897628 -1.898294 -1.874161 -1.892858  -2.012727  0.588441   \n",
       "1665  1.727952 -1.902278 -1.920254 -1.887031 -1.902146  -2.026125  0.264026   \n",
       "1666  1.732247 -1.905765 -1.915053 -1.897561 -1.894019  -2.014402  0.684075   \n",
       "\n",
       "       30_days  \n",
       "0     0.121379  \n",
       "1     0.069537  \n",
       "2     0.045345  \n",
       "3     0.062625  \n",
       "4     0.087970  \n",
       "...        ...  \n",
       "1662       NaN  \n",
       "1663       NaN  \n",
       "1664       NaN  \n",
       "1665       NaN  \n",
       "1666       NaN  \n",
       "\n",
       "[1667 rows x 8 columns]"
      ]
     },
     "execution_count": 202,
     "metadata": {},
     "output_type": "execute_result"
    }
   ],
   "source": [
    "stonks_zscore = (stonks - stonks.mean()) / stonks.std()\n",
    "stonks_zscore"
   ]
  },
  {
   "cell_type": "code",
   "execution_count": 212,
   "metadata": {},
   "outputs": [],
   "source": [
    "stonks_train = stonks_zscore.dropna()\n",
    "target = stonks_train.pop(f'{days_ahead}_days')\n",
    "x_train, x_test, y_train, y_test = train_test_split(stonks_train,target,test_size=0.2,shuffle=False)\n",
    "y_train, y_test = y_train.values, y_test.values\n",
    "x_train = np.reshape(x_train.values,(x_train.values.shape[0],x_train.values.shape[1],1))\n",
    "x_test = np.reshape(x_test.values,(x_test.values.shape[0],x_test.values.shape[1],1))"
   ]
  },
  {
   "cell_type": "code",
   "execution_count": 242,
   "metadata": {},
   "outputs": [],
   "source": [
    "model_lstm = tf.keras.Sequential()\n",
    "model_lstm.add(tf.keras.layers.LSTM(units=256,return_sequences=True))\n",
    "model_lstm.add(tf.keras.layers.LSTM(units=256,return_sequences=True))\n",
    "model_lstm.add(tf.keras.layers.LSTM(units=256))\n",
    "model_lstm.add(tf.keras.layers.Dense(units=1))\n",
    "model_lstm.compile(loss='mse',optimizer='adam')"
   ]
  },
  {
   "cell_type": "code",
   "execution_count": 243,
   "metadata": {},
   "outputs": [
    {
     "name": "stdout",
     "output_type": "stream",
     "text": [
      "Epoch 1/10\n",
      "3/3 [==============================] - 1s 195ms/step - loss: 0.6154\n",
      "Epoch 2/10\n",
      "3/3 [==============================] - 1s 191ms/step - loss: 0.3162\n",
      "Epoch 3/10\n",
      "3/3 [==============================] - 1s 188ms/step - loss: 0.2581\n",
      "Epoch 4/10\n",
      "3/3 [==============================] - 1s 192ms/step - loss: 0.2540\n",
      "Epoch 5/10\n",
      "3/3 [==============================] - 1s 188ms/step - loss: 0.2028\n",
      "Epoch 6/10\n",
      "3/3 [==============================] - 1s 191ms/step - loss: 0.1859\n",
      "Epoch 7/10\n",
      "3/3 [==============================] - 1s 191ms/step - loss: 0.1478\n",
      "Epoch 8/10\n",
      "3/3 [==============================] - 1s 189ms/step - loss: 0.1437\n",
      "Epoch 9/10\n",
      "3/3 [==============================] - 1s 188ms/step - loss: 0.1187\n",
      "Epoch 10/10\n",
      "3/3 [==============================] - 1s 188ms/step - loss: 0.1247\n"
     ]
    },
    {
     "data": {
      "text/plain": [
       "<tensorflow.python.keras.callbacks.History at 0x205e11950a0>"
      ]
     },
     "execution_count": 243,
     "metadata": {},
     "output_type": "execute_result"
    }
   ],
   "source": [
    "model_lstm.fit(x_train,y_train,epochs=10,batch_size=512,verbose=1)"
   ]
  },
  {
   "cell_type": "code",
   "execution_count": 244,
   "metadata": {},
   "outputs": [
    {
     "name": "stdout",
     "output_type": "stream",
     "text": [
      "11/11 [==============================] - 0s 21ms/step - loss: 0.0517: 0s - loss: 0.051\n"
     ]
    },
    {
     "data": {
      "text/plain": [
       "0.05174208804965019"
      ]
     },
     "execution_count": 244,
     "metadata": {},
     "output_type": "execute_result"
    }
   ],
   "source": [
    "model_lstm.evaluate(x_test,y_test,verbose=1)"
   ]
  },
  {
   "cell_type": "code",
   "execution_count": 245,
   "metadata": {},
   "outputs": [
    {
     "name": "stderr",
     "output_type": "stream",
     "text": [
      "c:\\users\\nolan\\appdata\\local\\programs\\python\\python38\\lib\\site-packages\\pandas\\core\\frame.py:3990: SettingWithCopyWarning: \n",
      "A value is trying to be set on a copy of a slice from a DataFrame\n",
      "\n",
      "See the caveats in the documentation: https://pandas.pydata.org/pandas-docs/stable/user_guide/indexing.html#returning-a-view-versus-a-copy\n",
      "  return super().drop(\n"
     ]
    }
   ],
   "source": [
    "to_predict = stonks_zscore[pd.isnull(stonks_zscore[f'{days_ahead}_days'])]\n",
    "to_predict.drop(f'{days_ahead}_days',axis=1,inplace=True)\n",
    "x_predict = np.reshape(to_predict.values,(to_predict.values.shape[0],to_predict.values.shape[1],1))\n",
    "predictions = model_lstm.predict(x_predict)"
   ]
  },
  {
   "cell_type": "code",
   "execution_count": 248,
   "metadata": {},
   "outputs": [
    {
     "data": {
      "image/png": "[encoded data removed]",
      "text/plain": [
       "<Figure size 432x288 with 1 Axes>"
      ]
     },
     "metadata": {
      "needs_background": "light"
     },
     "output_type": "display_data"
    }
   ],
   "source": [
    "plt.plot(to_predict.Date,predictions,'b-',label='Prediction')\n",
    "plt.plot(stonks_zscore.loc[to_predict.index,'Date'],stonks_zscore.loc[to_predict.index,'Open'],'r--',label='Actual Price')\n",
    "plt.legend(loc=0,frameon=True)\n",
    "plt.title('AMC Stock Price Prediction')\n",
    "plt.xlabel('Normalized Date')\n",
    "plt.ylabel('Normalized Price')\n",
    "plt.show()"
   ]
  },
  {
   "cell_type": "code",
   "execution_count": null,
   "metadata": {},
   "outputs": [],
   "source": []
  }
 ],
 "metadata": {
  "kernelspec": {
   "display_name": "Python 3",
   "language": "python",
   "name": "python3"
  },
  "language_info": {
   "codemirror_mode": {
    "name": "ipython",
    "version": 3
   },
   "file_extension": ".py",
   "mimetype": "text/x-python",
   "name": "python",
   "nbconvert_exporter": "python",
   "pygments_lexer": "ipython3",
   "version": "3.8.3"
  }
 },
 "nbformat": 4,
 "nbformat_minor": 4
}
