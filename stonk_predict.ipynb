{
 "cells": [
  {
   "cell_type": "code",
   "execution_count": 131,
   "metadata": {},
   "outputs": [],
   "source": [
    "import numpy as np\n",
    "import pandas as pd\n",
    "from datetime import datetime as dt\n",
    "from datetime import timezone\n",
    "import requests\n",
    "from io import StringIO\n",
    "from sklearn.linear_model import LinearRegression\n",
    "from sklearn.model_selection import train_test_split\n",
    "from matplotlib import pyplot as plt"
   ]
  },
  {
   "cell_type": "code",
   "execution_count": 132,
   "metadata": {},
   "outputs": [],
   "source": [
    "# defining stonks and dates. change to user input later\n",
    "stonk_code = 'AMC'\n",
    "hist_date = '01-01-2010'\n",
    "today = dt.today()"
   ]
  },
  {
   "cell_type": "code",
   "execution_count": 133,
   "metadata": {},
   "outputs": [],
   "source": [
    "# converting dates to Unix timestamps\n",
    "unix_hist = dt.strptime(hist_date,'%m-%d-%Y').replace(tzinfo=timezone.utc).timestamp()\n",
    "unix_today = end_date.replace(tzinfo=timezone.utc).timestamp()"
   ]
  },
  {
   "cell_type": "code",
   "execution_count": 134,
   "metadata": {},
   "outputs": [],
   "source": [
    "# getting stonk history from Yahoo! Finance\n",
    "link = (f'https://query1.finance.yahoo.com/v7/finance/download/'\n",
    "        f'{stonk_code}?period1={int(unix_hist)}&period2={int(unix_today)}&interval=1d&events=history')\n",
    "b = requests.get(link)\n",
    "s = str(b.content,'utf-8')\n",
    "s_io = StringIO(s)\n",
    "stonks = pd.read_csv(s_io,encoding='utf-8',parse_dates=['Date'])"
   ]
  },
  {
   "cell_type": "code",
   "execution_count": 135,
   "metadata": {},
   "outputs": [],
   "source": [
    "# defining how far ahead user wants to predict\n",
    "days_ahead = 30 # change to user input\n",
    "stonks[f'{days_ahead}_days'] = np.nan\n",
    "for ind in stonks.index:\n",
    "    try:\n",
    "        stonks.loc[ind,f'{days_ahead}_days'] = stonks.loc[ind+days_ahead,'Open']\n",
    "    except:\n",
    "        pass"
   ]
  },
  {
   "cell_type": "code",
   "execution_count": 136,
   "metadata": {},
   "outputs": [],
   "source": [
    "# converting Date column to numeric data\n",
    "try:\n",
    "    stonks['Date'] = stonks['Date'].map(dt.toordinal)\n",
    "except:\n",
    "    pass"
   ]
  },
  {
   "cell_type": "code",
   "execution_count": 144,
   "metadata": {},
   "outputs": [],
   "source": [
    "# defining independent & dependent variables, train/test split\n",
    "x = stonks.dropna().loc[:,['Date','Open','High']]\n",
    "y = stonks.dropna().loc[:,f'{days_ahead}_days']\n",
    "x_train, x_test, y_train, y_test = train_test_split(x, y, test_size=0.2, shuffle=False)"
   ]
  },
  {
   "cell_type": "code",
   "execution_count": 145,
   "metadata": {},
   "outputs": [
    {
     "data": {
      "image/png": "[encoded data removed]",
      "text/plain": [
       "<Figure size 432x288 with 1 Axes>"
      ]
     },
     "metadata": {
      "needs_background": "light"
     },
     "output_type": "display_data"
    },
    {
     "name": "stdout",
     "output_type": "stream",
     "text": [
      "Score: 0.7003621830929636\n"
     ]
    }
   ],
   "source": [
    "# model & predictions\n",
    "lm = LinearRegression()\n",
    "model = lm.fit(x_train,y_train)\n",
    "test_predictions = lm.predict(x_test)\n",
    "plt.plot(stonks.Date.map(dt.fromordinal),stonks.Open,'b--',label='Historical')\n",
    "plt.plot(x_test.Date.map(dt.fromordinal),test_predictions,'r-',label='Predictions')\n",
    "plt.xlabel('Date')\n",
    "plt.ylabel('Stonk Price')\n",
    "plt.title(f'{stonk_code} Stonk Price')\n",
    "plt.legend(loc=0,frameon=True)\n",
    "plt.show()\n",
    "score = model.score(x_test,y_test)\n",
    "print('Score:',score)"
   ]
  },
  {
   "cell_type": "code",
   "execution_count": 141,
   "metadata": {},
   "outputs": [
    {
     "name": "stdout",
     "output_type": "stream",
     "text": [
      "range(1595109478, 1597708800)\n"
     ]
    }
   ],
   "source": [
    "# predicting future stonks\n",
    "pred_date = '08-18-2020' # change to user input\n",
    "unix_pred = dt.strptime(pred_date,'%m-%d-%Y').replace(tzinfo=timezone.utc).timestamp()\n",
    "print(range(int(unix_today),int(unix_pred)))"
   ]
  },
  {
   "cell_type": "code",
   "execution_count": null,
   "metadata": {},
   "outputs": [],
   "source": []
  }
 ],
 "metadata": {
  "kernelspec": {
   "display_name": "Python 3",
   "language": "python",
   "name": "python3"
  },
  "language_info": {
   "codemirror_mode": {
    "name": "ipython",
    "version": 3
   },
   "file_extension": ".py",
   "mimetype": "text/x-python",
   "name": "python",
   "nbconvert_exporter": "python",
   "pygments_lexer": "ipython3",
   "version": "3.8.3"
  }
 },
 "nbformat": 4,
 "nbformat_minor": 4
}
